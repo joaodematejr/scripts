{
 "cells": [
  {
   "cell_type": "code",
   "execution_count": 2,
   "metadata": {},
   "outputs": [],
   "source": [
    "import pandas as pd\n",
    "import numpy as np\n",
    "import json"
   ]
  },
  {
   "cell_type": "code",
   "execution_count": 3,
   "metadata": {},
   "outputs": [],
   "source": [
    "xls = pd.ExcelFile('Clientes.xlsx')"
   ]
  },
  {
   "cell_type": "code",
   "execution_count": 4,
   "metadata": {},
   "outputs": [],
   "source": [
    "df = xls.parse('Carga de clientes', skiprows=6, index_col=None, na_values=['NA'])"
   ]
  },
  {
   "cell_type": "code",
   "execution_count": 5,
   "metadata": {},
   "outputs": [],
   "source": [
    "df = df.fillna(\"\")"
   ]
  },
  {
   "cell_type": "code",
   "execution_count": 6,
   "metadata": {},
   "outputs": [],
   "source": [
    "df = df.rename(\n",
    "    columns={'Unnamed: 0': '#', \n",
    "             'Unnamed: 1': 'Tipo', \n",
    "             'Unnamed: 2': 'CNPJ/CPF',\n",
    "             'Unnamed: 3': 'Razão social / Nome',\n",
    "             'Unnamed: 4': 'Nome fantasia',\n",
    "             'Unnamed: 5': 'Inscrição estadual',\n",
    "             'Unnamed: 6': 'Inscrição municipal',\n",
    "             'Unnamed: 7': 'Código do cliente',\n",
    "             'Unnamed: 8': 'É cliente final?',\n",
    "             'Unnamed: 9': 'CEP',\n",
    "             'Unnamed: 10': 'Endereço',\n",
    "             'Unnamed: 11': 'Número',\n",
    "             'Unnamed: 12': 'Complemento',\n",
    "             'Unnamed: 13': 'Bairro',\n",
    "             'Unnamed: 14': 'Cidade',\n",
    "             'Unnamed: 15': 'Estado',\n",
    "             'Unnamed: 17': 'Contato',\n",
    "             'Unnamed: 24': 'Anotações',\n",
    "             'Unnamed: 25': 'Limite de crédito',\n",
    "             'Unnamed: 26': 'Bloquear venda para o cliente?'\n",
    "            })"
   ]
  },
  {
   "cell_type": "code",
   "execution_count": 7,
   "metadata": {},
   "outputs": [],
   "source": [
    "df = df.dropna(how='all', axis=1)"
   ]
  },
  {
   "cell_type": "code",
   "execution_count": 8,
   "metadata": {},
   "outputs": [],
   "source": [
    "df = df.drop(columns=['Inscrição municipal', 'Contato', 'Tipo', 'Tipo.1', 'Contato.1', 'Tipo.2', 'Contato.2', 'Tipo.3', 'Contato.3', 'Anotações'])"
   ]
  },
  {
   "cell_type": "code",
   "execution_count": 9,
   "metadata": {},
   "outputs": [],
   "source": [
    "df = pd.DataFrame(df)"
   ]
  },
  {
   "cell_type": "code",
   "execution_count": null,
   "metadata": {},
   "outputs": [],
   "source": [
    "df"
   ]
  },
  {
   "cell_type": "code",
   "execution_count": null,
   "metadata": {},
   "outputs": [],
   "source": [
    "for row in df.iterrows():\n",
    "    data = {\n",
    "        \"Status\": \"1\",\n",
    "        \"Resale\": False,\n",
    "        \"Notes\": \"\",\n",
    "        \"PriceTableId\": \"\",\n",
    "        \"CustomerCode\": \"2\",\n",
    "        \"CreditLimit\": \"0\",\n",
    "        \"BlockSale\": False,\n",
    "        \"Tags\": [],\n",
    "        \"Person\": {\n",
    "            \"Type\": \"2\",\n",
    "            \"RegistrationCode\": \"xxxx\",\n",
    "            \"CompanyName\": \"BLA BLA\",\n",
    "            \"SocialName\": \"BLA BLA\",\n",
    "            \"RegistrationState\": \"xxx.xxx.xxx.x\",\n",
    "            \"RegistrationCity\": \"\",\n",
    "            \"Taxpayer\": \"\",\n",
    "            \"Taxing\": \"\",\n",
    "            \"BusinessSituation\": \"\",\n",
    "            \"PaymentMethodId\": None,\n",
    "            \"PreferredSalesPersonId\": \"\",\n",
    "            \"FinalCostumer\": False,\n",
    "            \"RegistrationStateRequired\": False\n",
    "        },\n",
    "    }\n",
    "    #print(row[1]['CNPJ/CPF'])\n",
    "    #print(row[1]['CNPJ/CPF'])"
   ]
  },
  {
   "cell_type": "code",
   "execution_count": 10,
   "metadata": {},
   "outputs": [],
   "source": [
    "import requests\n",
    "import urllib3\n",
    "urllib3.disable_warnings(urllib3.exceptions.InsecureRequestWarning)"
   ]
  },
  {
   "cell_type": "code",
   "execution_count": null,
   "metadata": {
    "scrolled": false
   },
   "outputs": [],
   "source": [
    "TOKEN =''\n",
    "hed = {'Authorization': 'Bearer ' + TOKEN}\n",
    "api = 'https://localhost:5001/client'\n",
    "dt = {\n",
    "        \"Status\": \"1\",\n",
    "        \"Resale\": False,\n",
    "        \"Notes\": \"\",\n",
    "        \"PriceTableId\": \"\",\n",
    "        \"CustomerCode\": \"2\",\n",
    "        \"CreditLimit\": \"0\",\n",
    "        \"BlockSale\": False,\n",
    "        \"Tags\": [],\n",
    "        \"Person\": {\n",
    "            \"Type\": \"2\",\n",
    "            \"RegistrationCode\": \"000000\",\n",
    "            \"CompanyName\": \"BLA BLA\",\n",
    "            \"SocialName\": \"BLA BLA\",\n",
    "            \"RegistrationState\": \"xxx.048.xxx.xxx\",\n",
    "            \"RegistrationCity\": \"\",\n",
    "            \"Taxpayer\": \"\",\n",
    "            \"Taxing\": \"\",\n",
    "            \"BusinessSituation\": \"\",\n",
    "            \"PaymentMethodId\": None,\n",
    "            \"PreferredSalesPersonId\": \"\",\n",
    "            \"FinalCostumer\": False,\n",
    "            \"RegistrationStateRequired\": False\n",
    "        },\n",
    "    }\n",
    "response = requests.post(api, json=dt, headers=hed, verify=False)\n",
    "print(response.status_code)\n",
    "print(response.json())"
   ]
  },
  {
   "cell_type": "code",
   "execution_count": null,
   "metadata": {
    "scrolled": true
   },
   "outputs": [],
   "source": [
    "contador = 0\n",
    "for row in df.iterrows():\n",
    "    contador = contador + 1\n",
    "    TOKEN =''\n",
    "    hed = {'Authorization': 'Bearer ' + TOKEN}\n",
    "    api = 'https://localhost:5001/client/105'\n",
    "    response = requests.get(api, headers=hed, verify=False)\n",
    "    if response.status_code == 200:\n",
    "        print('Salvo com sucesso ' + row[1]['CNPJ/CPF'] + ' ' + row[1]['Razão social / Nome'])\n",
    "    else:\n",
    "        print(response.json()['errorMessages'] + row[1]['CNPJ/CPF'] + ' ' + row[1]['Razão social / Nome'])\n",
    "        print(response.json())\n",
    "    print(contador)"
   ]
  },
  {
   "cell_type": "code",
   "execution_count": null,
   "metadata": {},
   "outputs": [],
   "source": []
  }
 ],
 "metadata": {
  "kernelspec": {
   "display_name": "Python 3",
   "language": "python",
   "name": "python3"
  },
  "language_info": {
   "codemirror_mode": {
    "name": "ipython",
    "version": 3
   },
   "file_extension": ".py",
   "mimetype": "text/x-python",
   "name": "python",
   "nbconvert_exporter": "python",
   "pygments_lexer": "ipython3",
   "version": "3.8.5"
  }
 },
 "nbformat": 4,
 "nbformat_minor": 4
}
